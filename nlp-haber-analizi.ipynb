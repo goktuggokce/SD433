{
 "cells": [
  {
   "cell_type": "markdown",
   "id": "de3d7802",
   "metadata": {
    "papermill": {
     "duration": 0.008458,
     "end_time": "2025-01-03T18:21:33.137775",
     "exception": false,
     "start_time": "2025-01-03T18:21:33.129317",
     "status": "completed"
    },
    "tags": []
   },
   "source": [
    "# Afyon Kocatepe Üniversitesi  \n",
    "## Mühendislik Fakültesi | Bilgisayar Mühendisliği  \n",
    "\n",
    "---\n",
    "\n",
    "## 📘 SD433 Doğal Dil İşleme  \n",
    "Bu proje, **SD433 Doğal Dil İşleme** dersi kapsamında hazırlanmıştır. Projenin temel referansı, **Doğal Dil İşleme Proje Rapor Dosyası**dır.\n",
    "\n",
    "### 💻 Teknoloji  \n",
    "- **Programlama Dili:** Python\n",
    "\n",
    "---\n",
    "\n",
    "### ✍️ Hazırlayan  \n",
    "- **Ad-Soyad:** Mehmet Göktuğ Gökçe  \n",
    "- **Öğrenci No:** 212923025  \n"
   ]
  },
  {
   "cell_type": "markdown",
   "id": "6631134e",
   "metadata": {
    "papermill": {
     "duration": 0.007387,
     "end_time": "2025-01-03T18:21:33.153506",
     "exception": false,
     "start_time": "2025-01-03T18:21:33.146119",
     "status": "completed"
    },
    "tags": []
   },
   "source": [
    "# 📚 Anlamsal Benzerliğe Duyarlı Arama Motoru Projesi\n",
    "\n",
    "## 🌍 Proje Konusu\n",
    "Bu proje, kullanıcı tarafından girilen bir metni, veri tabanında bulunan haber kaynaklarıyla **anlamsal bağlamı dikkate alarak** eşleştirip, arama işlemi gerçekleştirmeyi amaçlamaktadır. Kullanıcı, belirli bir konu hakkında bilgi ararken, arama motoru sadece kelime eşleşmesine dayalı değil, **anlam temelli** bir sıralama sunacaktır. Ayrıca, belirli tarih aralıklarında en fazla hangi konu başlıklarında haber üretildiği analiz edilerek, haberlerin **kategorize edilmesi** sağlanacaktır. \n",
    "\n",
    "Veri seti üzerinde yapılacak bu analiz, haberlerin **tarihsel eğilimlerini** ve hangi konuların daha fazla ilgi gördüğünü gösterecektir.\n",
    "\n",
    "## 🎯 Proje Amacı\n",
    "Günümüzde haber siteleri sayısız haber metniyle doludur. Bu projedeki amaç, kullanıcıların bu kadar büyük bir bilgi yığınından **en alakalı ve anlamlı** olanları hızlı ve doğru bir şekilde bulabilmelerini sağlamaktır. Projenin temel hedefi, **anlamsal benzerliğe dayalı bir arama motoru** sunarak, haber içeriklerini en doğru biçimde **sıralamak ve sunmak** olacaktır.\n",
    "\n",
    "Sunulacak projenin, akademik bir katkı sağlayacağı düşünülmektedir.\n",
    "\n",
    "## 🗂️ Kullanılacak Veri Seti\n",
    "**Adı:** Turkish News Article  \n",
    "**İçeriği:** Bu veri seti, **Türkçe haber kaynakları** içeren 204 yazardan ve 2415 makaleden oluşmaktadır. Veri seti, haberin **tarihi ve bağlantı adreslerini** içermektedir. Haberler farklı kategorilere dağılmakta ve **zengin bir içerik** sunmaktadır, bu da projede kullanılacak olan analizlerin çeşitliliğini artırmaktadır.\n",
    "\n",
    "## 🔧 Kullanılacak Yöntemler\n",
    "\n",
    "### 1) 🧹 Veri Ön İşleme\n",
    "Veri setindeki gereksiz karakterler, semboller, sayılar ve boşluklar temizlenecektir. Metinler küçük harfe dönüştürülerek tutarsızlıklar giderilecektir. Bu adım, verilerin daha düzenli ve işlemeye uygun hale gelmesini sağlayacaktır. Böylece, doğru analiz sonuçlarına ulaşmak daha kolay olacaktır. \n",
    "\n",
    "### 2) 🔤 Word2Vec ile Metin Vektörleştirme\n",
    "Kullanıcı sorgusu ve haber metinleri, **Word2Vec** algoritması kullanılarak anlam temelli vektörlere dönüştürülecektir. Bu dönüşüm, kelimelerin anlamsal benzerliklerini daha iyi temsil etmeye olanak sağlar. **Word2Vec**, kelimeler arasındaki anlam ilişkilerini öğrenerek, vektörler üzerinden daha doğru eşleşmeler yapmamıza olanak verir. 📊\n",
    "\n",
    "### 3) 🔍 Kosinüs Benzerliği ile Anlamsal Yakınlık Ölçümü\n",
    "Word2Vec ile elde edilen vektörler arasında **kosinüs benzerliği** hesaplanacaktır. Bu yöntem, vektörler arasındaki açıyı dikkate alarak, iki metin arasındaki anlamsal benzerliği ölçer. Kosinüs benzerliği kullanılarak, kullanıcı sorgusu ve haber metinleri arasındaki **anlam benzerliği** değerlendirilecektir. Bu sayede, anlam bakımından **en yakın** sonuçlar daha yüksek sıralarda yer alacaktır. 💡\n",
    "\n",
    "### 4) 📊 TF-IDF ile Sonuç Sıralama\n",
    "Arama sonuçları, kelime frekansı ve kelimelerin **önemine** göre sıralanması düşünülmüştür. **TF-IDF (Term Frequency-Inverse Document Frequency)**, her kelimenin ne kadar önemli olduğunu ve belgedeki **eşsizliğini** dikkate alır. Bu yöntem, kullanıcıya en alakalı sonuçların en üstte **listelenmesini** sağlar. Bu adım, arama sonuçlarının doğruluğunu artırarak kullanıcı deneyimini iyileştirir.\n",
    "\n",
    "### 5) 🧠 LDA (Latent Dirichlet Allocation) ile Konu Modelleme\n",
    "Veri setindeki haberler, belirli tarih aralıklarında hangi konu başlıklarının daha fazla üretildiğini analiz etmek amacıyla **LDA** (Latent Dirichlet Allocation) modeline tabi tutulacaktır. Bu model, haberleri **konu başlıkları** altında gruplayarak, haber üretim eğilimlerini gözler önüne serecektir. LDA ile, hem geçmiş dönemde popüler olan konular hem de **güncel eğilimler** hakkında bilgi edinilecektir. 📅\n"
   ]
  },
  {
   "cell_type": "markdown",
   "id": "075a886f",
   "metadata": {
    "papermill": {
     "duration": 0.007299,
     "end_time": "2025-01-03T18:21:33.169559",
     "exception": false,
     "start_time": "2025-01-03T18:21:33.162260",
     "status": "completed"
    },
    "tags": []
   },
   "source": [
    "# 📚 **Kullanılan Kütüphaneler**  \n",
    "\n",
    "Proje kapsamında aşağıdaki kütüphaneler kullanılmıştır:\n",
    "\n",
    "- **pandas (pd):** Veri manipülasyonu ve analizinde kullanılır. Veri çerçeveleri (DataFrame) ile işlem yapmayı sağlar.  \n",
    "- **numpy (np):** Sayısal hesaplamalar ve veri işleme için kullanılır.  \n",
    "- **re:** Düzenli ifadelerle metin işleme ve temizleme işlemleri için kullanılır.  \n",
    "- **gensim.models.Word2Vec:** Metin verilerinde kelime gömme (word embedding) işlemleri için kullanılır.  \n",
    "- **sklearn.metrics.pairwise.cosine_similarity:** Kosinüs benzerliği hesaplamak için kullanılır.  \n",
    "- **sklearn.feature_extraction.text.TfidfVectorizer:** Metin verilerinin TF-IDF (Term Frequency-Inverse Document Frequency) vektörlerine dönüştürülmesi için kullanılır.  \n",
    "- **sklearn.decomposition.LatentDirichletAllocation:** Latent Dirichlet Allocation (LDA) ile konu modellemesi yapılmasını sağlar.  \n",
    "- **sklearn.feature_extraction.text.CountVectorizer:** Kelime sayımlarını (bag of words) çıkaran bir vektörleştirici kullanılır.  \n",
    "- **matplotlib.pyplot (plt):** Veri görselleştirmeleri yapmak için kullanılır.  \n",
    "- **collections.Counter:** Veri kümelerindeki öğelerin sıklığını saymak için kullanılır.  "
   ]
  },
  {
   "cell_type": "code",
   "execution_count": 1,
   "id": "e57de95e",
   "metadata": {
    "execution": {
     "iopub.execute_input": "2025-01-03T18:21:33.186377Z",
     "iopub.status.busy": "2025-01-03T18:21:33.185973Z",
     "iopub.status.idle": "2025-01-03T18:21:43.049312Z",
     "shell.execute_reply": "2025-01-03T18:21:43.048302Z"
    },
    "papermill": {
     "duration": 9.87485,
     "end_time": "2025-01-03T18:21:43.051904",
     "exception": false,
     "start_time": "2025-01-03T18:21:33.177054",
     "status": "completed"
    },
    "tags": []
   },
   "outputs": [],
   "source": [
    "import pandas as pd\n",
    "import numpy as np\n",
    "import re\n",
    "from gensim.models import Word2Vec\n",
    "from sklearn.metrics.pairwise import cosine_similarity\n",
    "from sklearn.feature_extraction.text import TfidfVectorizer\n",
    "from sklearn.decomposition import LatentDirichletAllocation\n",
    "from sklearn.feature_extraction.text import CountVectorizer\n",
    "import matplotlib.pyplot as plt\n",
    "from collections import Counter"
   ]
  },
  {
   "cell_type": "markdown",
   "id": "a05ee434",
   "metadata": {
    "papermill": {
     "duration": 0.007424,
     "end_time": "2025-01-03T18:21:43.067505",
     "exception": false,
     "start_time": "2025-01-03T18:21:43.060081",
     "status": "completed"
    },
    "tags": []
   },
   "source": [
    "# 🔧 Projeye Ön Hazırlık "
   ]
  },
  {
   "cell_type": "markdown",
   "id": "b518f536",
   "metadata": {
    "papermill": {
     "duration": 0.007552,
     "end_time": "2025-01-03T18:21:43.082968",
     "exception": false,
     "start_time": "2025-01-03T18:21:43.075416",
     "status": "completed"
    },
    "tags": []
   },
   "source": [
    "## 📂 Veri Seti ve Stop-Words'lerin Yüklenmesi  \n",
    "\n",
    "Projede kullanılan **veri seti**, kendi içerisinde bulunan stop-words'lerin düzenlenmesini gerektirmiştir. Bu doğrultuda:  \n",
    "\n",
    "1. **Gerekli düzenlemeler yapılmıştır.**  \n",
    "2. Düzenlenmiş stop-words'ler, **edited-stop-words** adlı dosyaya kaydedilmiştir.  \n",
    "\n",
    "👉 **Not:** Projenin ilerleyen aşamalarında tüm işlemler, düzenlenmiş stop-words üzerinden gerçekleştirilecektir.  "
   ]
  },
  {
   "cell_type": "code",
   "execution_count": 2,
   "id": "aeb3bbd0",
   "metadata": {
    "execution": {
     "iopub.execute_input": "2025-01-03T18:21:43.100370Z",
     "iopub.status.busy": "2025-01-03T18:21:43.099791Z",
     "iopub.status.idle": "2025-01-03T18:21:43.482226Z",
     "shell.execute_reply": "2025-01-03T18:21:43.480982Z"
    },
    "papermill": {
     "duration": 0.394398,
     "end_time": "2025-01-03T18:21:43.484969",
     "exception": false,
     "start_time": "2025-01-03T18:21:43.090571",
     "status": "completed"
    },
    "tags": []
   },
   "outputs": [],
   "source": [
    "# Veri setini yükleme\n",
    "file_path = '/kaggle/input/turkish-news-article/TurkishNewsArticles.csv'\n",
    "data = pd.read_csv(file_path)\n",
    "\n",
    "# Stop-words dosyasını yükleme\n",
    "stop_words_path = '/kaggle/input/edited-stop-words/stop-words.txt'\n",
    "with open(stop_words_path, 'r', encoding='utf-8') as file:\n",
    "    stop_words = set(file.read().splitlines())"
   ]
  },
  {
   "cell_type": "markdown",
   "id": "6e7012f6",
   "metadata": {
    "papermill": {
     "duration": 0.00719,
     "end_time": "2025-01-03T18:21:43.500135",
     "exception": false,
     "start_time": "2025-01-03T18:21:43.492945",
     "status": "completed"
    },
    "tags": []
   },
   "source": [
    "## 🧹 Gereksiz Karakterler ve Stop-Words'lerin Temizlenmesi (Ön İşleme)  \n",
    "\n",
    "### ✨ **clean_text** Fonksiyonu  \n",
    "Bu fonksiyon, metin üzerinde aşağıdaki işlemleri gerçekleştirmektedir:  \n",
    "- **Fazla boşlukların temizlenmesi**  \n",
    "- **Noktalama işaretlerinin kaldırılması**  \n",
    "- **Büyük-küçük harf duyarlılığı**: Tüm metin küçük harfe dönüştürülür.  \n",
    "- **Stop-Words temizliği**: Önceden düzenlenmiş stop-words listesinden faydalanılır.  \n",
    "\n",
    "### 📤 Çıktı  \n",
    "Temizleme işlemlerinin ardından, düzenlenmiş veri seti şu şekilde dışa aktarılır:  \n",
    "- **Dosya Adı:** `cleaned_turkish_news.csv`  \n",
    "\n",
    "👉 **Not:** Bu temizleme işlemi, model performansını artırmak için kritik bir adımdır.  "
   ]
  },
  {
   "cell_type": "code",
   "execution_count": 3,
   "id": "e932ce14",
   "metadata": {
    "_cell_guid": "b1076dfc-b9ad-4769-8c92-a6c4dae69d19",
    "_uuid": "8f2839f25d086af736a60e9eeb907d3b93b6e0e5",
    "execution": {
     "iopub.execute_input": "2025-01-03T18:21:43.518353Z",
     "iopub.status.busy": "2025-01-03T18:21:43.517930Z",
     "iopub.status.idle": "2025-01-03T18:21:45.430538Z",
     "shell.execute_reply": "2025-01-03T18:21:45.429397Z"
    },
    "papermill": {
     "duration": 1.925228,
     "end_time": "2025-01-03T18:21:45.433121",
     "exception": false,
     "start_time": "2025-01-03T18:21:43.507893",
     "status": "completed"
    },
    "tags": []
   },
   "outputs": [
    {
     "name": "stdout",
     "output_type": "stream",
     "text": [
      "                                                text  \\\n",
      "0  \\n\\nDün MHP'nin Büyük Kurultay'ında Genel Başk...   \n",
      "1  \\n\\nAmerikan iç politikasındaki gelişmeler kes...   \n",
      "2  \\n\\nBugüne kadar her konuda Yunanistan'ın ve K...   \n",
      "3  \\n\\nMısır'la diplomatik ilişkilerin başlaması,...   \n",
      "4  \\n\\nTabii ki hiçbir ülkeyi küçük görmemek gere...   \n",
      "\n",
      "                                        cleaned_text  \n",
      "0  mhpnin büyük kurultayında genel başkan devlet ...  \n",
      "1  amerikan iç politikasındaki gelişmeler bizimki...  \n",
      "2  bugüne konuda yunanistanın kıbrıs rumlarının o...  \n",
      "3  mısırla diplomatik ilişkilerin başlaması ülkel...  \n",
      "4  tabii ülkeyi küçük görmemek gerekiyor ülkeler ...  \n"
     ]
    }
   ],
   "source": [
    "# Haber metnindeki gereksiz karakterleri ve stop-word'leri temizleme\n",
    "def clean_text(text):\n",
    "    text = re.sub(r'\\s+', ' ', text)  # Fazla boşlukları tek boşluğa indir\n",
    "    text = re.sub(r'[^\\w\\s]', '', text)  # Noktalama işaretlerini kaldır\n",
    "    words = text.lower().split()  # Küçük harfe dönüştür ve kelimelere ayır\n",
    "    filtered_words = [word for word in words if word not in stop_words]  # Stop-word'leri kaldır\n",
    "    return ' '.join(filtered_words)\n",
    "\n",
    "# Uygulama\n",
    "data['cleaned_text'] = data['text'].apply(clean_text)\n",
    "\n",
    "# İlk birkaç satırı kontrol edelim\n",
    "print(data[['text', 'cleaned_text']].head())\n",
    "\n",
    "# Temizlenmiş veriyi kaydetmek isterseniz\n",
    "data.to_csv('/kaggle/working/cleaned_turkish_news.csv', index=False)\n"
   ]
  },
  {
   "cell_type": "markdown",
   "id": "27e19847",
   "metadata": {
    "papermill": {
     "duration": 0.007282,
     "end_time": "2025-01-03T18:21:45.448352",
     "exception": false,
     "start_time": "2025-01-03T18:21:45.441070",
     "status": "completed"
    },
    "tags": []
   },
   "source": [
    "# 🧠 Model Eğitimleri  "
   ]
  },
  {
   "cell_type": "markdown",
   "id": "fbe3830a",
   "metadata": {
    "papermill": {
     "duration": 0.007864,
     "end_time": "2025-01-03T18:21:45.463881",
     "exception": false,
     "start_time": "2025-01-03T18:21:45.456017",
     "status": "completed"
    },
    "tags": []
   },
   "source": [
    "## 🔍 Word2Vec Yapısı ve Kosinüs Benzerliği  \n",
    "\n",
    "### 📌 **Model Eğitimi**  \n",
    "- **Model Türü:** Word2Vec  \n",
    "- **Değişken İsmi:** `w2c_model`  \n",
    "- Word2Vec modeli, kelime temsillerini öğrenmek için eğitilmiştir.  \n",
    "\n",
    "### 🧮 **Kosinüs Benzerliği**  \n",
    "- **Benzerlik Ölçütü:** Kosinüs benzerliği  \n",
    "- Bu yöntem, kelime vektörlerinin arasındaki açısal benzerliği hesaplayarak ilişkileri analiz eder.  \n",
    "\n",
    "### ✋ **Kullanıcı Sorgusu ile Örnek Benzerlik Hesabı**  \n",
    "- Kullanıcıdan alınan bir sorgu üzerinden, kelimeler arasında **örnek benzerlik hesaplamaları** gerçekleştirilmiştir.  \n",
    "- Bu işlem, modelin doğruluğunu ve performansını değerlendirmek için kritik bir adımdır.  "
   ]
  },
  {
   "cell_type": "code",
   "execution_count": 4,
   "id": "1985d353",
   "metadata": {
    "execution": {
     "iopub.execute_input": "2025-01-03T18:21:45.481256Z",
     "iopub.status.busy": "2025-01-03T18:21:45.480839Z",
     "iopub.status.idle": "2025-01-03T18:21:55.244443Z",
     "shell.execute_reply": "2025-01-03T18:21:55.243266Z"
    },
    "papermill": {
     "duration": 9.775206,
     "end_time": "2025-01-03T18:21:55.246921",
     "exception": false,
     "start_time": "2025-01-03T18:21:45.471715",
     "status": "completed"
    },
    "tags": []
   },
   "outputs": [
    {
     "name": "stdout",
     "output_type": "stream",
     "text": [
      "                                                  title  similarity\n",
      "2083        Türkiye bölgede düzen kurucu rol üstleniyor    0.993168\n",
      "1877  Dış politikadan büyük stratejiye AK Parti’nin ...    0.991476\n",
      "1884                                 Stratejik esneklik    0.991383\n",
      "1421                Türk savunma sanayii neden hedefte?    0.991331\n",
      "2374                ABD’nin Suriye politikasının iflası    0.991027\n"
     ]
    }
   ],
   "source": [
    "# Haber metinlerini bir listeye dönüştürme\n",
    "sentences = data['cleaned_text'].dropna().apply(lambda x: x.split()).tolist()\n",
    "\n",
    "# Word2Vec modeli eğitimi\n",
    "w2v_model = Word2Vec(sentences, vector_size=100, window=5, min_count=2, workers=4)\n",
    "\n",
    "# Ortalama vektör hesaplama fonksiyonu\n",
    "def get_average_vector(words, model):\n",
    "    vectors = []\n",
    "    for word in words:\n",
    "        if word in model.wv:\n",
    "            vectors.append(model.wv[word])\n",
    "    if vectors:\n",
    "        return np.mean(vectors, axis=0)\n",
    "    else:\n",
    "        return np.zeros(model.vector_size)\n",
    "\n",
    "# Kullanıcı sorgusu için bir örnek\n",
    "query = \"ekonomi ve politika haberleri\"\n",
    "cleaned_query = clean_text(query).split()\n",
    "query_vector = get_average_vector(cleaned_query, w2v_model)\n",
    "\n",
    "# Haber metinleri için vektör hesaplama\n",
    "data['vector'] = data['cleaned_text'].apply(lambda x: get_average_vector(x.split(), w2v_model))\n",
    "\n",
    "# Kosinüs benzerliği ile sorgu ve metinler arasındaki benzerlikleri hesaplama\n",
    "data['similarity'] = data['vector'].apply(lambda x: cosine_similarity([query_vector], [x])[0][0])\n",
    "\n",
    "# En alakalı 5 haberi sıralama\n",
    "top_matches = data.sort_values(by='similarity', ascending=False).head(5)\n",
    "print(top_matches[['title', 'similarity']])\n"
   ]
  },
  {
   "cell_type": "markdown",
   "id": "a12470be",
   "metadata": {
    "papermill": {
     "duration": 0.007217,
     "end_time": "2025-01-03T18:21:55.262174",
     "exception": false,
     "start_time": "2025-01-03T18:21:55.254957",
     "status": "completed"
    },
    "tags": []
   },
   "source": [
    "## 📊 TF-IDF Yapısı  \n",
    "\n",
    "### 🏗️ **Model Eğitimi**  \n",
    "- **Model Türü:** TF-IDF (Term Frequency-Inverse Document Frequency)  \n",
    "- Bu yapı, kelimelerin bir dokümanda ne kadar önemli olduğunu belirlemek için kullanılır.  \n",
    "\n",
    "### 🧪 **Test Süreci**  \n",
    "1. **Kullanıcı Verisi:**  \n",
    "   - Model, kullanıcıdan alınan veri ile test edilir.  \n",
    "   - Kullanıcının sorgusu üzerinden analiz yapılır.  \n",
    "2. **Sonuçların Yazdırılması:**  \n",
    "   - TF-IDF sonuçları işlenir ve ilgili çıktılar ekrana yazdırılır.  "
   ]
  },
  {
   "cell_type": "code",
   "execution_count": 5,
   "id": "fab4a03d",
   "metadata": {
    "execution": {
     "iopub.execute_input": "2025-01-03T18:21:55.278974Z",
     "iopub.status.busy": "2025-01-03T18:21:55.278603Z",
     "iopub.status.idle": "2025-01-03T18:21:57.049243Z",
     "shell.execute_reply": "2025-01-03T18:21:57.048188Z"
    },
    "papermill": {
     "duration": 1.781797,
     "end_time": "2025-01-03T18:21:57.051572",
     "exception": false,
     "start_time": "2025-01-03T18:21:55.269775",
     "status": "completed"
    },
    "tags": []
   },
   "outputs": [
    {
     "name": "stdout",
     "output_type": "stream",
     "text": [
      "TF-IDF ile En İlgili Haberler:\n",
      "                                            title  tfidf_similarity\n",
      "1968          Para politikasında sadeleşme dönemi          0.203955\n",
      "2083  Türkiye bölgede düzen kurucu rol üstleniyor          0.198725\n",
      "2003                    Yeni siyaset-yeni ekonomi          0.149402\n",
      "390                   Kenevir üretimi artırılmalı          0.146853\n",
      "1576               \"Gaz-fren\" tartışmaları ve OVP          0.129496\n"
     ]
    }
   ],
   "source": [
    "# TF-IDF modeli eğitimi\n",
    "tfidf_vectorizer = TfidfVectorizer(max_features=5000)\n",
    "tfidf_matrix = tfidf_vectorizer.fit_transform(data['cleaned_text'])\n",
    "\n",
    "cleaned_query = ' '.join(clean_text(query).split())  # Listeyi tekrar stringe çevir\n",
    "\n",
    "# Kullanıcı sorgusu için TF-IDF vektörü oluşturma\n",
    "query_tfidf_vector = tfidf_vectorizer.transform([cleaned_query])\n",
    "\n",
    "# Kosinüs benzerliği hesaplama\n",
    "data['tfidf_similarity'] = tfidf_matrix.dot(query_tfidf_vector.T).toarray().flatten()\n",
    "\n",
    "# TF-IDF sonuçlarına göre sıralama\n",
    "top_tfidf_matches = data.sort_values(by='tfidf_similarity', ascending=False).head(5)\n",
    "\n",
    "# Sonuçları gösterme\n",
    "print(\"TF-IDF ile En İlgili Haberler:\")\n",
    "print(top_tfidf_matches[['title', 'tfidf_similarity']])"
   ]
  },
  {
   "cell_type": "markdown",
   "id": "23707c82",
   "metadata": {
    "papermill": {
     "duration": 0.007458,
     "end_time": "2025-01-03T18:21:57.066844",
     "exception": false,
     "start_time": "2025-01-03T18:21:57.059386",
     "status": "completed"
    },
    "tags": []
   },
   "source": [
    "## 🗂️ LDA Yapısı  \n",
    "\n",
    "### 🏗️ **Latent Dirichlet Allocation (LDA)**  \n",
    "- **Kullanım Alanı:** Haber metinlerini kategorilere ayırmak için LDA modeli kullanılmıştır.  \n",
    "- LDA, metinlerde gizli konu yapısını belirlemek için kullanılan popüler bir konumsal modelleme yöntemidir.  \n",
    "\n",
    "### 🧪 **Eğitim Süreci ve Testler**  \n",
    "1. **Model Parametreleri:**  \n",
    "   - **n_components:** 5 ve 10 değerleri ile model eğitilmiştir.  \n",
    "2. **Sonuçlar:**  \n",
    "   - **n_components = 10**: Daha iyi konu ayrımı sağlanmıştır.  \n",
    "\n",
    "👉 **Not:** Modelin parametre seçimi, konu ayrımının kalitesini önemli ölçüde etkilemiştir. `n_components` değerinin artırılması, haber metinlerinin kategorilere ayrılmasında daha başarılı sonuçlar vermiştir.  \n"
   ]
  },
  {
   "cell_type": "code",
   "execution_count": 6,
   "id": "02a7bb07",
   "metadata": {
    "execution": {
     "iopub.execute_input": "2025-01-03T18:21:57.084493Z",
     "iopub.status.busy": "2025-01-03T18:21:57.084067Z",
     "iopub.status.idle": "2025-01-03T18:22:14.379205Z",
     "shell.execute_reply": "2025-01-03T18:22:14.378138Z"
    },
    "papermill": {
     "duration": 17.307053,
     "end_time": "2025-01-03T18:22:14.382091",
     "exception": false,
     "start_time": "2025-01-03T18:21:57.075038",
     "status": "completed"
    },
    "tags": []
   },
   "outputs": [],
   "source": [
    "# Haber metinlerinden bir kelime sayım matrisi oluşturma\n",
    "count_vectorizer = CountVectorizer(max_features=5000, stop_words=list(stop_words))\n",
    "count_matrix = count_vectorizer.fit_transform(data['cleaned_text'])\n",
    "\n",
    "# LDA modeli eğitimi\n",
    "lda_model = LatentDirichletAllocation(n_components=10, random_state=42)  # n_components kadar konu ile sınırlı\n",
    "lda_model.fit(count_matrix)\n",
    "\n",
    "# Her konu için en sık geçen kelimeleri gösterme\n",
    "def print_topics(model, vectorizer, top_n=10):\n",
    "    terms = vectorizer.get_feature_names_out()\n",
    "    for idx, topic in enumerate(model.components_):\n",
    "        print(f\"Topic #{idx + 1}:\")\n",
    "        print(\" \".join([terms[i] for i in topic.argsort()[-top_n:]]))\n",
    "        print(\"\\n\")\n"
   ]
  },
  {
   "cell_type": "markdown",
   "id": "577274d1",
   "metadata": {
    "papermill": {
     "duration": 0.007512,
     "end_time": "2025-01-03T18:22:14.397638",
     "exception": false,
     "start_time": "2025-01-03T18:22:14.390126",
     "status": "completed"
    },
    "tags": []
   },
   "source": [
    "### 📊 **Ayrılan Konulara Düşen Haber Sayısının Çıktısı**  \n",
    "\n",
    "- LDA modeli ile kategorilere ayrılan haberlerin her bir konuya düşen sayısı hesaplanmıştır.  \n",
    "- **Sonuçlar:**  \n",
    "  - Her bir konu başlığına ait haber sayısı listelenmiştir, böylece her kategorinin ne kadar içerik barındırdığına dair bilgi sağlanmıştır.  "
   ]
  },
  {
   "cell_type": "code",
   "execution_count": 7,
   "id": "bff10a67",
   "metadata": {
    "execution": {
     "iopub.execute_input": "2025-01-03T18:22:14.414952Z",
     "iopub.status.busy": "2025-01-03T18:22:14.414544Z",
     "iopub.status.idle": "2025-01-03T18:22:15.359929Z",
     "shell.execute_reply": "2025-01-03T18:22:15.358675Z"
    },
    "papermill": {
     "duration": 0.956834,
     "end_time": "2025-01-03T18:22:15.362227",
     "exception": false,
     "start_time": "2025-01-03T18:22:14.405393",
     "status": "completed"
    },
    "tags": []
   },
   "outputs": [
    {
     "name": "stdout",
     "output_type": "stream",
     "text": [
      "Haberlerin Konulara Dağılımı:\n",
      "topic\n",
      "0    600\n",
      "1    447\n",
      "3    402\n",
      "6    260\n",
      "7    174\n",
      "8    152\n",
      "5    121\n",
      "4    112\n",
      "2     91\n",
      "9     56\n",
      "Name: count, dtype: int64\n"
     ]
    }
   ],
   "source": [
    "# Her bir haber için en olası konuyu tahmin etme\n",
    "data['topic'] = lda_model.transform(count_matrix).argmax(axis=1)\n",
    "\n",
    "# Her konuya kaç haberin ait olduğunu gösterme\n",
    "print(\"Haberlerin Konulara Dağılımı:\")\n",
    "print(data['topic'].value_counts())"
   ]
  },
  {
   "cell_type": "markdown",
   "id": "15616272",
   "metadata": {
    "papermill": {
     "duration": 0.007652,
     "end_time": "2025-01-03T18:22:15.377837",
     "exception": false,
     "start_time": "2025-01-03T18:22:15.370185",
     "status": "completed"
    },
    "tags": []
   },
   "source": [
    "### 🏷️ **Haber Konularına İsim Verilebilmesi İçin En Çok Geçen Kelimelerin Çıktısı**  \n",
    "\n",
    "- Her bir konu başlığında, **en çok geçen kelimeler** belirlenmiştir.  \n",
    "- Bu kelimeler, konulara anlamlı isimler verilmesi için kullanılır.  \n",
    "\n",
    "### 🔍 **Kelime Çıktısı:**  \n",
    "- LDA modeli ile ayrılan her konu için, **en yüksek frekansa sahip kelimeler** listelenir.  \n",
    "- Bu kelimeler, konunun ana temasını ve içeriğini yansıtır.  "
   ]
  },
  {
   "cell_type": "code",
   "execution_count": 8,
   "id": "d49aa886",
   "metadata": {
    "execution": {
     "iopub.execute_input": "2025-01-03T18:22:15.395278Z",
     "iopub.status.busy": "2025-01-03T18:22:15.394880Z",
     "iopub.status.idle": "2025-01-03T18:22:15.411883Z",
     "shell.execute_reply": "2025-01-03T18:22:15.410612Z"
    },
    "papermill": {
     "duration": 0.028543,
     "end_time": "2025-01-03T18:22:15.414190",
     "exception": false,
     "start_time": "2025-01-03T18:22:15.385647",
     "status": "completed"
    },
    "tags": []
   },
   "outputs": [
    {
     "name": "stdout",
     "output_type": "stream",
     "text": [
      "Topic 0: olduğunu, aynı, yıl, gün, olarak, şey, zaman, olan, büyük, var\n",
      "Topic 1: seçim, olan, partinin, siyasal, chp, siyaset, ak, parti, siyasi, olarak\n",
      "Topic 2: sahip, büyük, şekilde, ekonomik, enerji, olan, olarak, önemli, türkiye, türkiyenin\n",
      "Topic 3: ran, dış, olan, suriye, abdnin, askeri, abd, türkiyenin, türkiye, olarak\n",
      "Topic 4: var, onun, slam, bütün, insan, osmanlı, hz, büyük, olarak, olan\n",
      "Topic 5: yüksek, kalp, yüzde, olduğu, olur, su, sağlıklı, diş, olan, olarak\n",
      "Topic 6: olarak, fenerbahçe, galatasaray, büyük, maç, gol, takım, oyun, beşiktaş, var\n",
      "Topic 7: büyüme, merkez, yüksek, türkiye, dolar, olan, olarak, küresel, ekonomik, yüzde\n",
      "Topic 8: üzerinden, dijital, diğer, ortaya, olan, eğitim, medya, olduğu, sosyal, olarak\n",
      "Topic 9: suyu, çorba, çay, malzemeler, tuz, yemek, adet, bardağı, kaşığı, su\n"
     ]
    }
   ],
   "source": [
    "# Her konu için en sık geçen kelimeleri listeleme\n",
    "def get_topic_keywords(model, vectorizer, n_top_words=10):\n",
    "    terms = vectorizer.get_feature_names_out()\n",
    "    topic_keywords = {}\n",
    "    for idx, topic in enumerate(model.components_):\n",
    "        keywords = [terms[i] for i in topic.argsort()[-n_top_words:]]\n",
    "        topic_keywords[f\"Topic {idx}\"] = keywords\n",
    "    return topic_keywords\n",
    "\n",
    "# Konu kelimelerini çıkaralım\n",
    "topic_keywords = get_topic_keywords(lda_model, count_vectorizer)\n",
    "\n",
    "# Her konu için kelime listesi ve olası başlık önerisi\n",
    "for topic, keywords in topic_keywords.items():\n",
    "    print(f\"{topic}: {', '.join(keywords)}\")\n"
   ]
  },
  {
   "cell_type": "markdown",
   "id": "18038ee8",
   "metadata": {
    "papermill": {
     "duration": 0.007506,
     "end_time": "2025-01-03T18:22:15.429627",
     "exception": false,
     "start_time": "2025-01-03T18:22:15.422121",
     "status": "completed"
    },
    "tags": []
   },
   "source": [
    "### 📝 **En Çok Geçen Kelimelere Göre Konu Başlıklarının Belirlenmesi**  \n",
    "\n",
    "- LDA modelinde, her bir konunun en çok geçen kelimeleri analiz edilmiştir.  \n",
    "- Bu kelimeler ışığında, **konulara anlamlı başlıklar** yazılmıştır.  \n",
    "\n",
    "### 🔑 **Başlık Belirleme Süreci:**  \n",
    "- En sık geçen kelimeler, her konunun **ana temasını** yansıtan başlıklar için kullanılmıştır.  \n",
    "- Konu başlıkları, içerikle uyumlu ve açıklayıcı olacak şekilde seçilmiştir.  "
   ]
  },
  {
   "cell_type": "code",
   "execution_count": 9,
   "id": "f22f2b2a",
   "metadata": {
    "execution": {
     "iopub.execute_input": "2025-01-03T18:22:15.447661Z",
     "iopub.status.busy": "2025-01-03T18:22:15.446625Z",
     "iopub.status.idle": "2025-01-03T18:22:17.655183Z",
     "shell.execute_reply": "2025-01-03T18:22:17.653750Z"
    },
    "papermill": {
     "duration": 2.220397,
     "end_time": "2025-01-03T18:22:17.657941",
     "exception": false,
     "start_time": "2025-01-03T18:22:15.437544",
     "status": "completed"
    },
    "tags": []
   },
   "outputs": [
    {
     "name": "stdout",
     "output_type": "stream",
     "text": [
      "                                               title  topic  \\\n",
      "0  Türk siyasetinde Devlet Bahçeli bir tutarlılık...      1   \n",
      "1  Amerikan iç politikasında kimin kimi hedef ala...      3   \n",
      "2  Amerikalılar, yalancı Amerikan başkanlarını ar...      3   \n",
      "3  Darbeler geçmişte Türkiye’nin dış politikasını...      3   \n",
      "4  Müflis Yunanistan, Türkiye’ye gövde gösterisi ...      3   \n",
      "\n",
      "                         topic_label  \n",
      "0      Siyasi Gelişmeler ve Seçimler  \n",
      "1  Dış Politika ve Askeri Gelişmeler  \n",
      "2  Dış Politika ve Askeri Gelişmeler  \n",
      "3  Dış Politika ve Askeri Gelişmeler  \n",
      "4  Dış Politika ve Askeri Gelişmeler  \n"
     ]
    }
   ],
   "source": [
    "# Önerilen başlıkları bir sözlükte eşleştirelim\n",
    "topic_labels = {\n",
    "    0: \"Genel Gündem ve Zaman Odaklı Haberler\",\n",
    "    1: \"Siyasi Gelişmeler ve Seçimler\",\n",
    "    2: \"Ekonomi ve Enerji Politikaları\",\n",
    "    3: \"Dış Politika ve Askeri Gelişmeler\",\n",
    "    4: \"Kültürel ve Dini Konular\",\n",
    "    5: \"Sağlık ve Yaşam Tarzı\",\n",
    "    6: \"Spor ve Futbol Haberleri\",\n",
    "    7: \"Küresel Ekonomi ve Finans\",\n",
    "    8: \"Dijitalleşme ve Sosyal Medya\",\n",
    "    9: \"Yemek Tarifleri ve Beslenme\"\n",
    "}\n",
    "\n",
    "# Veri setine anlamlı başlıkları ekleyelim\n",
    "data['topic_label'] = data['topic'].map(topic_labels)\n",
    "\n",
    "# Sonuçları kontrol edelim\n",
    "print(data[['title', 'topic', 'topic_label']].head())\n",
    "\n",
    "# Güncellenmiş veri setini kaydetmek için\n",
    "data.to_csv('/kaggle/working/labeled_turkish_news.csv', index=False)\n"
   ]
  },
  {
   "cell_type": "markdown",
   "id": "b96540e6",
   "metadata": {
    "papermill": {
     "duration": 0.007855,
     "end_time": "2025-01-03T18:22:17.674151",
     "exception": false,
     "start_time": "2025-01-03T18:22:17.666296",
     "status": "completed"
    },
    "tags": []
   },
   "source": [
    "## 📅 **Date (Tarih) Niteliğinin Ön İşlemi**  \n",
    "\n",
    "### 🛠️ **Ön İşleme Adımı**  \n",
    "- **Amaç:** Tarih niteliği, dinamik aramaları kolaylaştırmak ve grafiğe aktarılabilir hale getirmek için ön işleme tabi tutulmuştur.  \n",
    "- Bu işlem, tarihlerin daha verimli kullanılabilmesi için gereklidir.  \n",
    "\n",
    "### 🔄 **Standart Format Dönüşümü:**  \n",
    "- Tarih verisi, **standart date-time formatına** dönüştürülmüştür. Bu sayede:  \n",
    "  - Arama işlemleri daha hızlı hale gelir.  \n",
    "  - Grafik ve analizlerde tarih verisi doğru ve tutarlı şekilde kullanılabilir.  \n",
    "\n",
    "👉 **Not:** Tarihlerin uygun formata dönüştürülmesi, zaman serisi analizlerinin doğru yapılabilmesi için kritik bir adımdır.  "
   ]
  },
  {
   "cell_type": "code",
   "execution_count": 10,
   "id": "ba42e8ba",
   "metadata": {
    "execution": {
     "iopub.execute_input": "2025-01-03T18:22:17.692024Z",
     "iopub.status.busy": "2025-01-03T18:22:17.691656Z",
     "iopub.status.idle": "2025-01-03T18:22:18.022654Z",
     "shell.execute_reply": "2025-01-03T18:22:18.021335Z"
    },
    "papermill": {
     "duration": 0.343013,
     "end_time": "2025-01-03T18:22:18.025246",
     "exception": false,
     "start_time": "2025-01-03T18:22:17.682233",
     "status": "completed"
    },
    "tags": []
   },
   "outputs": [
    {
     "name": "stdout",
     "output_type": "stream",
     "text": [
      "0      2021-03-19\n",
      "1      2021-03-18\n",
      "2      2021-03-17\n",
      "3      2021-03-16\n",
      "4      2021-03-15\n",
      "          ...    \n",
      "2410   2017-02-18\n",
      "2411   2017-02-11\n",
      "2412   2017-01-28\n",
      "2413   2017-01-21\n",
      "2414   2017-01-14\n",
      "Name: date, Length: 2415, dtype: datetime64[ns]\n"
     ]
    }
   ],
   "source": [
    "# Tarih sütunundaki örnek formatları işlemek için özel bir dönüşüm fonksiyonu\n",
    "def parse_custom_date(date_str):\n",
    "    try:\n",
    "        # Ay isimlerini Türkçe olarak belirtelim\n",
    "        months_tr = {\n",
    "            \"Ocak\": \"January\", \"Şubat\": \"February\", \"Mart\": \"March\", \"Nisan\": \"April\",\n",
    "            \"Mayıs\": \"May\", \"Haziran\": \"June\", \"Temmuz\": \"July\", \"Ağustos\": \"August\",\n",
    "            \"Eylül\": \"September\", \"Ekim\": \"October\", \"Kasım\": \"November\", \"Aralık\": \"December\"\n",
    "        }\n",
    "        for tr_month, en_month in months_tr.items():\n",
    "            date_str = date_str.replace(tr_month, en_month)\n",
    "        # Pandas'ın tanıyabileceği bir formata dönüştür ve tarih-parçalarını al\n",
    "        return pd.to_datetime(date_str.split(\",\")[0], format='%d %B %Y', errors='coerce')\n",
    "    except Exception as e:\n",
    "        return None\n",
    "\n",
    "# Tarih sütununu temizleme ve dönüştürme\n",
    "data['date'] = data['date'].apply(parse_custom_date)\n",
    "\n",
    "# Geçerli tarihleri tutalım\n",
    "data = data.dropna(subset=['date'])\n",
    "print(data['date'])\n"
   ]
  },
  {
   "cell_type": "markdown",
   "id": "f111bb77",
   "metadata": {
    "papermill": {
     "duration": 0.008023,
     "end_time": "2025-01-03T18:22:18.041664",
     "exception": false,
     "start_time": "2025-01-03T18:22:18.033641",
     "status": "completed"
    },
    "tags": []
   },
   "source": [
    "## 📊 **Grafikler**  \n",
    "\n",
    "### 📈 **Grafiklerin Önemi**  \n",
    "Grafikler, verilerin görsel olarak sunulmasını sağlar ve analiz süreçlerini daha anlaşılır hale getirir.  \n"
   ]
  },
  {
   "cell_type": "markdown",
   "id": "7aee5039",
   "metadata": {
    "papermill": {
     "duration": 0.007945,
     "end_time": "2025-01-03T18:22:18.057780",
     "exception": false,
     "start_time": "2025-01-03T18:22:18.049835",
     "status": "completed"
    },
    "tags": []
   },
   "source": [
    "### 📅 **Tarihe Göre Toplam Haber Sayısını Gösteren Tablo**  \n",
    "\n",
    "* **Amaç:** Veri setindeki haberlerin, tarihsel dağılımını analiz edebilmek için bir tablo oluşturulmuştur. Toplam haber sayısını gösterir.  "
   ]
  },
  {
   "cell_type": "code",
   "execution_count": 11,
   "id": "9bd59f60",
   "metadata": {
    "execution": {
     "iopub.execute_input": "2025-01-03T18:22:18.076412Z",
     "iopub.status.busy": "2025-01-03T18:22:18.076045Z",
     "iopub.status.idle": "2025-01-03T18:22:18.634792Z",
     "shell.execute_reply": "2025-01-03T18:22:18.633653Z"
    },
    "papermill": {
     "duration": 0.571281,
     "end_time": "2025-01-03T18:22:18.637910",
     "exception": false,
     "start_time": "2025-01-03T18:22:18.066629",
     "status": "completed"
    },
    "tags": []
   },
   "outputs": [
    {
     "data": {
      "image/png": "[encoded data removed]",
      "text/plain": [
       "<Figure size 2000x800 with 1 Axes>"
      ]
     },
     "metadata": {},
     "output_type": "display_data"
    }
   ],
   "source": [
    "# Tarihe göre toplam haber sayısını hesaplama\n",
    "total_news_per_date = data.groupby(data['date'].dt.to_period('M')).size()\n",
    "\n",
    "# Zaman serisi grafiği oluşturma\n",
    "plt.figure(figsize=(20, 8))\n",
    "plt.plot(total_news_per_date.index.to_timestamp(), total_news_per_date.values, marker='o', color='blue', linestyle='-')\n",
    "plt.title('Tarihe Göre Toplam Haber Sayısı', fontsize=16)\n",
    "plt.xlabel('Tarih (Ay)', fontsize=12)\n",
    "plt.ylabel('Toplam Haber Sayısı', fontsize=12)\n",
    "plt.grid(True, linestyle='--', alpha=0.6)\n",
    "plt.tight_layout()\n",
    "plt.show()\n"
   ]
  },
  {
   "cell_type": "markdown",
   "id": "4cc0a13d",
   "metadata": {
    "papermill": {
     "duration": 0.009319,
     "end_time": "2025-01-03T18:22:18.657677",
     "exception": false,
     "start_time": "2025-01-03T18:22:18.648358",
     "status": "completed"
    },
    "tags": []
   },
   "source": [
    "### 📈 **Konuların Zaman İçerisindeki Popülerlik Trendlerini Gösteren Grafik**  \n",
    "\n",
    "- **Amaç:** Konuların zaman içindeki popülerliklerini gözlemleyebilmek için bir grafik oluşturulmuştur.  \n",
    "- Bu grafik, her bir konunun farklı zaman dilimlerinde nasıl bir popülerlik değişimi gösterdiğini ortaya koyar.  "
   ]
  },
  {
   "cell_type": "code",
   "execution_count": 12,
   "id": "ad967ca9",
   "metadata": {
    "execution": {
     "iopub.execute_input": "2025-01-03T18:22:18.678573Z",
     "iopub.status.busy": "2025-01-03T18:22:18.678152Z",
     "iopub.status.idle": "2025-01-03T18:22:19.333271Z",
     "shell.execute_reply": "2025-01-03T18:22:19.332193Z"
    },
    "papermill": {
     "duration": 0.670008,
     "end_time": "2025-01-03T18:22:19.337260",
     "exception": false,
     "start_time": "2025-01-03T18:22:18.667252",
     "status": "completed"
    },
    "tags": []
   },
   "outputs": [
    {
     "data": {
      "image/png": "[encoded data removed]",
      "text/plain": [
       "<Figure size 2000x800 with 1 Axes>"
      ]
     },
     "metadata": {},
     "output_type": "display_data"
    }
   ],
   "source": [
    "import matplotlib.pyplot as plt\n",
    "\n",
    "# Aylık bazda konu başlıklarının sayısını hesaplama\n",
    "topic_trends = data.groupby([data['date'].dt.to_period('M'), 'topic_label']).size().unstack(fill_value=0)\n",
    "\n",
    "# Zaman serisi grafiği oluşturma\n",
    "plt.figure(figsize=(20, 8))\n",
    "for column in topic_trends.columns:\n",
    "    plt.plot(topic_trends.index.to_timestamp(), topic_trends[column], label=column)\n",
    "\n",
    "# Grafiği özelleştirme\n",
    "plt.title('Konuların Zaman İçindeki Popülerlik Trendleri', fontsize=16)\n",
    "plt.xlabel('Tarih (Ay)', fontsize=12)\n",
    "plt.ylabel('Haber Sayısı', fontsize=12)\n",
    "plt.legend(title='Konu Başlıkları', bbox_to_anchor=(1.05, 1), loc='upper left')\n",
    "plt.grid(True, linestyle='--', alpha=0.6)\n",
    "plt.tight_layout()\n",
    "plt.show()\n"
   ]
  },
  {
   "cell_type": "markdown",
   "id": "a445ac36",
   "metadata": {
    "papermill": {
     "duration": 0.013555,
     "end_time": "2025-01-03T18:22:19.365113",
     "exception": false,
     "start_time": "2025-01-03T18:22:19.351558",
     "status": "completed"
    },
    "tags": []
   },
   "source": [
    "## 🔍 **Haber Arama Fonksiyonları**"
   ]
  },
  {
   "cell_type": "markdown",
   "id": "913f8517",
   "metadata": {
    "papermill": {
     "duration": 0.01406,
     "end_time": "2025-01-03T18:22:19.393230",
     "exception": false,
     "start_time": "2025-01-03T18:22:19.379170",
     "status": "completed"
    },
    "tags": []
   },
   "source": [
    "### 📅 **Tarihler Arasındaki Haber Başlıkları**  \n",
    "- Kullanıcı tarafından girilen **tarihler arasındaki** haber başlıkları listelenmiştir.  \n",
    "- Bu özellik, belirli bir zaman dilimindeki haber içeriklerine hızlı erişim sağlar.  \n",
    "\n",
    "### 📊 **En Popüler Konu Başlığı**  \n",
    "- Girilen tarihler arasındaki **en popüler konu başlığı** belirlenmiştir.  \n",
    "- Popülerlik, haberlerin sıklığı ve yoğunluğu üzerinden hesaplanır.  \n",
    "\n",
    "👉 **Not:** Bu fonksiyonlar, kullanıcıların belirli zaman dilimlerinde daha ilgili haberleri bulmalarına ve en popüler konulara ulaşmalarına yardımcı olur.  "
   ]
  },
  {
   "cell_type": "code",
   "execution_count": 13,
   "id": "c19fb175",
   "metadata": {
    "execution": {
     "iopub.execute_input": "2025-01-03T18:22:19.425273Z",
     "iopub.status.busy": "2025-01-03T18:22:19.424889Z",
     "iopub.status.idle": "2025-01-03T18:22:19.440651Z",
     "shell.execute_reply": "2025-01-03T18:22:19.439508Z"
    },
    "papermill": {
     "duration": 0.034766,
     "end_time": "2025-01-03T18:22:19.443046",
     "exception": false,
     "start_time": "2025-01-03T18:22:19.408280",
     "status": "completed"
    },
    "tags": []
   },
   "outputs": [
    {
     "name": "stdout",
     "output_type": "stream",
     "text": [
      "Belirtilen tarih aralığında konulara göre haber dağılımı:\n",
      "topic_label\n",
      "Genel Gündem ve Zaman Odaklı Haberler    150\n",
      "Spor ve Futbol Haberleri                  55\n",
      "Siyasi Gelişmeler ve Seçimler             35\n",
      "Küresel Ekonomi ve Finans                 29\n",
      "Dış Politika ve Askeri Gelişmeler         26\n",
      "Yemek Tarifleri ve Beslenme               19\n",
      "Kültürel ve Dini Konular                  18\n",
      "Dijitalleşme ve Sosyal Medya              17\n",
      "Ekonomi ve Enerji Politikaları            15\n",
      "Sağlık ve Yaşam Tarzı                     10\n",
      "Name: count, dtype: int64\n",
      "\n",
      "En popüler konu: Genel Gündem ve Zaman Odaklı Haberler\n",
      "Bu konuya ait örnek haber başlıkları:\n",
      "                                                 title       date\n",
      "9    Katil olmaya eğilimli kişilere sanki haberlerl... 2021-03-10\n",
      "11   Yasakçılık bazılarının mutluluk duymalarına se... 2021-03-08\n",
      "110                                              Çözdü 2021-03-14\n",
      "111                               Köpürt yavrum köpürt 2021-03-13\n",
      "112                                   Ertuğrul faciası 2021-03-12\n"
     ]
    }
   ],
   "source": [
    "# Kullanıcıdan tarih aralığı alma\n",
    "start_date = \"2021-03-01\"  # Başlangıç tarihi (örnek)\n",
    "end_date = \"2021-03-31\"    # Bitiş tarihi (örnek)\n",
    "\n",
    "# Tarih aralığında verileri filtreleme\n",
    "filtered_data = data[(data['date'] >= start_date) & (data['date'] <= end_date)]\n",
    "\n",
    "# Konu başlıklarına göre haber sayısını hesaplama\n",
    "topic_distribution = filtered_data['topic_label'].value_counts()\n",
    "\n",
    "# Sonuçları gösterme\n",
    "print(\"Belirtilen tarih aralığında konulara göre haber dağılımı:\")\n",
    "print(topic_distribution)\n",
    "\n",
    "# En popüler konu başlığına ait haberler\n",
    "most_popular_topic = topic_distribution.idxmax()\n",
    "related_news = filtered_data[filtered_data['topic_label'] == most_popular_topic]\n",
    "\n",
    "print(f\"\\nEn popüler konu: {most_popular_topic}\")\n",
    "print(\"Bu konuya ait örnek haber başlıkları:\")\n",
    "print(related_news[['title', 'date']].head())\n"
   ]
  },
  {
   "cell_type": "markdown",
   "id": "69b954a6",
   "metadata": {
    "papermill": {
     "duration": 0.013783,
     "end_time": "2025-01-03T18:22:19.472267",
     "exception": false,
     "start_time": "2025-01-03T18:22:19.458484",
     "status": "completed"
    },
    "tags": []
   },
   "source": [
    "### 📝 **Her konu için özet haberler çıkarma fonksiyonu**  \n",
    "\n",
    "- Projede, konu başlıklarında yer alan haberleri özetlemek için fonksiyon sunulmuştur.\n",
    "\n",
    "- Kullanıcı, bu fonksiyonu kullanarak konu başlıklarında özet olarak hangi haberler mevcut bilgisine ulaşabilir.  \n",
    "\n",
    "- Bu özetler, konu başlığında mevcut haberleri hızlıca anlamalarını sağlar.  "
   ]
  },
  {
   "cell_type": "code",
   "execution_count": 14,
   "id": "a55861db",
   "metadata": {
    "execution": {
     "iopub.execute_input": "2025-01-03T18:22:19.503061Z",
     "iopub.status.busy": "2025-01-03T18:22:19.502058Z",
     "iopub.status.idle": "2025-01-03T18:22:19.919172Z",
     "shell.execute_reply": "2025-01-03T18:22:19.917986Z"
    },
    "papermill": {
     "duration": 0.435238,
     "end_time": "2025-01-03T18:22:19.921787",
     "exception": false,
     "start_time": "2025-01-03T18:22:19.486549",
     "status": "completed"
    },
    "tags": []
   },
   "outputs": [
    {
     "name": "stdout",
     "output_type": "stream",
     "text": [
      "Konu: Siyasi Gelişmeler ve Seçimler\n",
      "Öne Çıkan Kelimeler: olarak, siyasi, ak, parti, olan, olduğu, siyaset, siyasal, türkiye, chp\n",
      "Örnek Haber Başlıkları:\n",
      "  - Türk siyasetinde Devlet Bahçeli bir tutarlılık örneğidir\n",
      "  - Cumhurbaşkanı’nın eleştirilere sinirlenmesi de, eleştirilerin artması da doğaldır...\n",
      "  - Bir yanda sözde normale dönüş, diğer yanda da siyasetin cevapsız soruları var...\n",
      "  - İnsan Hakları Eylem Planı ile cumhuriyetimiz daha ileri yaşam tarzına kavuşacak\n",
      "  - Halkların seçtiklerini kabul etmeyenler, demokrasi sınavında sınıfta kalırlar\n",
      "\n",
      "\n",
      "Konu: Dış Politika ve Askeri Gelişmeler\n",
      "Öne Çıkan Kelimeler: olarak, türkiye, türkiyenin, abd, olan, askeri, suriye, siyasi, abdnin, olduğu\n",
      "Örnek Haber Başlıkları:\n",
      "  - Amerikan iç politikasında kimin kimi hedef alacağı hiç belli değil...\n",
      "  - Amerikalılar, yalancı Amerikan başkanlarını araştırırken doğru söyleyeni bulamadılar\n",
      "  - Darbeler geçmişte Türkiye’nin dış politikasını etkilerdi... Simdi sıra Mısır’da\n",
      "  - Müflis Yunanistan, Türkiye’ye gövde gösterisi yapmak için silaha sarıldı\n",
      "  - Komplo teorilerinin başyapıtı, Büyük Ortadoğu Projesi değil midir?\n",
      "\n",
      "\n",
      "Konu: Küresel Ekonomi ve Finans\n",
      "Öne Çıkan Kelimeler: yüzde, olarak, olan, türkiye, ekonomik, küresel, merkez, büyük, dolar, faiz\n",
      "Örnek Haber Başlıkları:\n",
      "  - Ekonomi Reform Paketi’nin başarısı AK Parti iktidarının geleceğini de etkileyecek...\n",
      "  - Ekonomi savaşları\n",
      "  - Büyüyen ekonomi ve seçim\n",
      "  - Seçimlere yaklaşırken benzer masallar\n",
      "  - Prangalardan kurtulurken\n",
      "\n",
      "\n",
      "Konu: Genel Gündem ve Zaman Odaklı Haberler\n",
      "Öne Çıkan Kelimeler: var, olarak, olan, büyük, zaman, şey, gün, önemli, olduğu, olduğunu\n",
      "Örnek Haber Başlıkları:\n",
      "  - Katil olmaya eğilimli kişilere sanki haberlerle ilham veriliyor...\n",
      "  - Yasakçılık bazılarının mutluluk duymalarına sebep olmaya başladı\n",
      "  - Piyasalar! Endişeye mahal yok\n",
      "  - Geçmiş zaman olur ki!\n",
      "  - FETÖ Afrika’dan Halkbank’a saldırıyor!\n",
      "\n",
      "\n",
      "Konu: Kültürel ve Dini Konular\n",
      "Öne Çıkan Kelimeler: olarak, olan, hz, büyük, osmanlı, var, olduğu, bütün, allah, paşa\n",
      "Örnek Haber Başlıkları:\n",
      "  - Bütün kadınlar ‘Kadınlar Günü’ne anlam katan kadınlardan değildir\n",
      "  - Şehitlerimizin acısı yüreğimizi yakarken, ölüme bakışımızı düşündüm...\n",
      "  - Türkiye’deki Suriyeliler... Diyasporadaki Türkler\n",
      "  - Sonunda geçmişlerdi\n",
      "  - Yunanlılar isyan ettiğinde Mısır yanımızdaydı\n",
      "\n",
      "\n",
      "Konu: Ekonomi ve Enerji Politikaları\n",
      "Öne Çıkan Kelimeler: türkiyenin, olarak, türkiye, önemli, olan, ekonomik, enerji, büyük, küresel, şekilde\n",
      "Örnek Haber Başlıkları:\n",
      "  - Reform Dalgası ve Yükseköğretimi de kapsamalı\n",
      "  - Elazığ depremi ve beraber yaşama iradesi\n",
      "  - 2020: Erişilebilirlik Yılı\n",
      "  - PISA’nın anlamı ve Türkiye’nin yükselen grafiği\n",
      "  - TEOG’dan sonra yeni model arayışı\n",
      "\n",
      "\n",
      "Konu: Dijitalleşme ve Sosyal Medya\n",
      "Öne Çıkan Kelimeler: olarak, olan, sosyal, olduğu, eğitim, medya, önemli, diğer, büyük, ortaya\n",
      "Örnek Haber Başlıkları:\n",
      "  - Fikri iktidar: elit eğitimi\n",
      "  - Eğitimde Yeni “Normal”\n",
      "  - Okullar kapandı, öğrenciler ne olacak?\n",
      "  - Yeni ortaöğretim tasarımı: beceri odaklı eğitimle geleceği yakalama\n",
      "  - Anlam, yorum ve dini anlayışın güncellenmesi meselesi\n",
      "\n",
      "\n",
      "Konu: Yemek Tarifleri ve Beslenme\n",
      "Öne Çıkan Kelimeler: 1, kaşığı, su, bardağı, adet, 2, malzemeler, tuz, çorba, yemek\n",
      "Örnek Haber Başlıkları:\n",
      "  - Firari FETÖ’cüye şirket kıyağı engellendi\n",
      "  - Ramazan'a özel düşük kalorili pratik tarifler\n",
      "  - Çizgili kek\n",
      "  - Ispanaklı bulgur pilavı\n",
      "  - Dut pekmezli kurabiye\n",
      "\n",
      "\n",
      "Konu: Spor ve Futbol Haberleri\n",
      "Öne Çıkan Kelimeler: var, beşiktaş, takım, gol, oyun, büyük, maç, fenerbahçe, galatasaray, olarak\n",
      "Örnek Haber Başlıkları:\n",
      "  - Ruhsuzluk!\n",
      "  - Kediler alemi!\n",
      "  - Bu Marcao yakar\n",
      "  - Mete Kalkavan çok pembe baktı\n",
      "  - Orta oyunu çok açık oynanıyor\n",
      "\n",
      "\n",
      "Konu: Sağlık ve Yaşam Tarzı\n",
      "Öne Çıkan Kelimeler: olarak, olan, diş, su, 1, sağlıklı, olur, olduğu, yüzde, yağ\n",
      "Örnek Haber Başlıkları:\n",
      "  - Yorgunluk nedeni 7 sağlık problemi\n",
      "  - Doğru kalori = ideal kilo\n",
      "  - 40’lı yaşlarda da kilo vermek mümkün\n",
      "  - Covid-19’un ardından psikozla yüzleşebilirsiniz\n",
      "  - Fazla şeker tüketimi beyin işlevlerini bozuyor\n",
      "\n",
      "\n"
     ]
    }
   ],
   "source": [
    "# Her konu için özet çıkarma fonksiyonu\n",
    "def summarize_topics(data):\n",
    "    topic_summaries = {}\n",
    "    for topic in data['topic_label'].unique():\n",
    "        # İlgili konuya ait haberleri filtreleme\n",
    "        topic_data = data[data['topic_label'] == topic]\n",
    "        \n",
    "        # Tüm metinlerde geçen kelimelerin sayımını yapma\n",
    "        all_words = \" \".join(topic_data['cleaned_text']).split()\n",
    "        word_counts = Counter(all_words)\n",
    "        top_words = word_counts.most_common(10)  # En sık geçen 10 kelime\n",
    "        \n",
    "        # Örnek haber başlıklarını alma\n",
    "        example_titles = topic_data['title'].head(5).tolist()\n",
    "        \n",
    "        # Özetleme\n",
    "        topic_summaries[topic] = {\n",
    "            \"top_words\": [word for word, count in top_words],\n",
    "            \"example_titles\": example_titles\n",
    "        }\n",
    "    return topic_summaries\n",
    "\n",
    "# Konu özetlerini çıkarma\n",
    "topic_summaries = summarize_topics(data)\n",
    "\n",
    "# Her konu için sonuçları gösterme\n",
    "for topic, summary in topic_summaries.items():\n",
    "    print(f\"Konu: {topic}\")\n",
    "    print(f\"Öne Çıkan Kelimeler: {', '.join(summary['top_words'])}\")\n",
    "    print(\"Örnek Haber Başlıkları:\")\n",
    "    for title in summary['example_titles']:\n",
    "        print(f\"  - {title}\")\n",
    "    print(\"\\n\")\n",
    "\n",
    "from collections import Counter\n",
    "\n",
    "def summarize_single_topic(data, topic):\n",
    "    # İlgili konuya ait haberleri filtreleme\n",
    "    topic_data = data[data['topic_label'] == topic]\n",
    "    \n",
    "    if topic_data.empty:\n",
    "        return f\"'{topic}' konusuna ait bir veri bulunamadı.\"\n",
    "    \n",
    "    # Tüm metinlerde geçen kelimelerin sayımını yapma\n",
    "    all_words = \" \".join(topic_data['cleaned_text']).split()\n",
    "    word_counts = Counter(all_words)\n",
    "    top_words = word_counts.most_common(10)  # En sık geçen 10 kelime\n",
    "    \n",
    "    # Örnek haber başlıklarını alma\n",
    "    example_titles = topic_data['title'].head(5).tolist()\n",
    "    \n",
    "    # Özetleme\n",
    "    summary = {\n",
    "        \"top_words\": [word for word, count in top_words],\n",
    "        \"example_titles\": example_titles\n",
    "    }\n",
    "    \n",
    "    return summary\n"
   ]
  },
  {
   "cell_type": "markdown",
   "id": "6680f7f5",
   "metadata": {
    "papermill": {
     "duration": 0.014358,
     "end_time": "2025-01-03T18:22:19.951066",
     "exception": false,
     "start_time": "2025-01-03T18:22:19.936708",
     "status": "completed"
    },
    "tags": []
   },
   "source": [
    "### 🔎 **Dinamik Arama Fonksiyonu**  \n",
    "\n",
    "- **Fonksiyonun Amacı:** Dinamik Arama Fonksiyonu, belirli parametreler doğrultusunda haber arama işlemini filtreler ve özelleştirir.  \n",
    "\n",
    "### 🛠️ **Fonksiyon Parametreleri:**  \n",
    "1. **start_date ve end_date:**  \n",
    "   - Bu parametreler, belirli bir tarih aralığında haber aramak için kullanılır.  \n",
    "   - **Her iki tarih parametresi verildiğinde, sadece belirtilen tarih aralığındaki haberler sorgulanır.**  \n",
    "\n",
    "2. **query (Arama Sorgusu):**  \n",
    "   - Bu parametre, haber metinlerinde yapılan anahtar kelime aramalarını ifade eder.  \n",
    "   - **Standart arama motoru kutucuğu gibi çalışır, metin içeriklerini tarar.**\n",
    "\n",
    "3. **topic (Konu Başlığı):**  \n",
    "   - **Özel bir konu başlığı girildiğinde, yalnızca belirtilen konu başlığını içeren haberler aranır.**  \n",
    "   - Bu filtre, kullanıcının belirli bir konuya odaklanmasını sağlar.  \n",
    "\n",
    "### 🔄 **Filtreleme Özelliği:**  \n",
    "- **Dinamik Arama Fonksiyonu**, yukarıdaki parametrelerin kombinasyonu ile haberler arasında filtreleme yapar.  \n",
    "- Tarihler, arama sorgusu ve konu başlığı parametreleri doğrultusunda, ilgili haberlerin listesi döndürülür.  \n",
    "\n",
    "👉 **Not:** Bu fonksiyon, kullanıcıların daha özelleştirilmiş ve hedeflenmiş haber aramaları yapmalarına olanak tanır, zaman ve verimlilik açısından büyük kolaylık sağlar.  \n"
   ]
  },
  {
   "cell_type": "code",
   "execution_count": 15,
   "id": "9d4a94d7",
   "metadata": {
    "execution": {
     "iopub.execute_input": "2025-01-03T18:22:19.982005Z",
     "iopub.status.busy": "2025-01-03T18:22:19.981593Z",
     "iopub.status.idle": "2025-01-03T18:22:19.990122Z",
     "shell.execute_reply": "2025-01-03T18:22:19.989120Z"
    },
    "papermill": {
     "duration": 0.026473,
     "end_time": "2025-01-03T18:22:19.992156",
     "exception": false,
     "start_time": "2025-01-03T18:22:19.965683",
     "status": "completed"
    },
    "tags": []
   },
   "outputs": [],
   "source": [
    "# Dinamik arama fonksiyonu\n",
    "def dynamic_search(data, start_date=None, end_date=None, query=None, topic=None):\n",
    "    filtered_data = data\n",
    "\n",
    "    # Tarih aralığına göre filtreleme\n",
    "    if start_date and end_date:\n",
    "        filtered_data = filtered_data[(filtered_data['date'] >= start_date) & \n",
    "                                      (filtered_data['date'] <= end_date)]\n",
    "\n",
    "    # Konuya göre filtreleme\n",
    "    if topic:\n",
    "        # Kullanıcı tarafından seçilen konunun veri setinde mevcut olduğundan emin olun\n",
    "        if topic not in data['topic_label'].unique():\n",
    "            print(f\"Seçilen konu '{topic}' veri setinde mevcut değil!\")\n",
    "        else:\n",
    "            filtered_data = filtered_data[filtered_data['topic_label'] == topic]\n",
    "\n",
    "\n",
    "    # Kullanıcı sorgusuna göre benzerlik hesaplama\n",
    "    if query:\n",
    "        # Sorguyu temizleme ve Word2Vec vektörüne dönüştürme\n",
    "        cleaned_query = ' '.join(clean_text(query).split())\n",
    "        query_vector = get_average_vector(cleaned_query.split(), w2v_model)\n",
    "\n",
    "        # Haber metinleri ile sorgu arasındaki benzerlikleri hesaplama\n",
    "        filtered_data['similarity'] = filtered_data['vector'].apply(\n",
    "            lambda x: cosine_similarity([query_vector], [x])[0][0]\n",
    "        )\n",
    "        # Benzerliğe göre sıralama\n",
    "        filtered_data = filtered_data.sort_values(by='similarity', ascending=False)\n",
    "\n",
    "\n",
    "    # Sonuçları döndürme\n",
    "    return filtered_data[['title', 'date', 'topic_label', 'similarity', 'text']].head(10)"
   ]
  },
  {
   "cell_type": "markdown",
   "id": "da269b68",
   "metadata": {
    "papermill": {
     "duration": 0.014205,
     "end_time": "2025-01-03T18:22:20.021096",
     "exception": false,
     "start_time": "2025-01-03T18:22:20.006891",
     "status": "completed"
    },
    "tags": []
   },
   "source": [
    "### 🧪 **Arama Fonksiyonu Testleri**  \n",
    "\n",
    "- **Testlerin Amacı:** Arama fonksiyonunun doğru çalışıp çalışmadığını ve verilen parametrelere göre doğru sonuçları verip vermediğini kontrol etmek amacıyla testler yapılmıştır.  \n",
    "\n",
    "### 🔍 **Test Senaryoları:**  \n",
    "- **Tarih Aralığı Testi** Belirli bir tarih aralığında yapılan aramaların doğru şekilde filtrelenip filtrelenmediği test edilmiştir.  \n",
    "- **Sorgu Araması Testi** Arama sorgusunun, haber metinlerinin içeriklerinde doğru şekilde arama yapıp yapmadığı kontrol edilmiştir.  \n",
    "- **Konu Başlığı Araması Testi** Belirtilen konu başlıklarına göre aramanın doğru sonuçlar döndürüp döndürmediği test edilmiştir."
   ]
  },
  {
   "cell_type": "code",
   "execution_count": 16,
   "id": "3ef61253",
   "metadata": {
    "execution": {
     "iopub.execute_input": "2025-01-03T18:22:20.053324Z",
     "iopub.status.busy": "2025-01-03T18:22:20.052249Z",
     "iopub.status.idle": "2025-01-03T18:22:20.074960Z",
     "shell.execute_reply": "2025-01-03T18:22:20.073786Z"
    },
    "papermill": {
     "duration": 0.041383,
     "end_time": "2025-01-03T18:22:20.077186",
     "exception": false,
     "start_time": "2025-01-03T18:22:20.035803",
     "status": "completed"
    },
    "tags": []
   },
   "outputs": [
    {
     "name": "stdout",
     "output_type": "stream",
     "text": [
      "Konu: Ekonomi ve Enerji Politikaları\n",
      "Öne Çıkan Kelimeler: türkiyenin, olarak, türkiye, önemli, olan, ekonomik, enerji, büyük, küresel, şekilde\n",
      "Örnek Haber Başlıkları:\n",
      "  - Reform Dalgası ve Yükseköğretimi de kapsamalı\n",
      "  - Elazığ depremi ve beraber yaşama iradesi\n",
      "  - 2020: Erişilebilirlik Yılı\n",
      "  - PISA’nın anlamı ve Türkiye’nin yükselen grafiği\n",
      "  - TEOG’dan sonra yeni model arayışı\n"
     ]
    }
   ],
   "source": [
    "# Tek bir konu için özet çıkarma\n",
    "topic = \"Ekonomi ve Enerji Politikaları\"  # Buraya ilgilendiğiniz konu adını yazın\n",
    "topic_summary = summarize_single_topic(data, topic)\n",
    "\n",
    "# Sonuçları gösterme\n",
    "if isinstance(topic_summary, dict):\n",
    "    print(f\"Konu: {topic}\")\n",
    "    print(f\"Öne Çıkan Kelimeler: {', '.join(topic_summary['top_words'])}\")\n",
    "    print(\"Örnek Haber Başlıkları:\")\n",
    "    for title in topic_summary['example_titles']:\n",
    "        print(f\"  - {title}\")\n",
    "else:\n",
    "    print(topic_summary)"
   ]
  },
  {
   "cell_type": "code",
   "execution_count": 17,
   "id": "368ecfd5",
   "metadata": {
    "execution": {
     "iopub.execute_input": "2025-01-03T18:22:20.108581Z",
     "iopub.status.busy": "2025-01-03T18:22:20.108159Z",
     "iopub.status.idle": "2025-01-03T18:22:20.127710Z",
     "shell.execute_reply": "2025-01-03T18:22:20.126594Z"
    },
    "papermill": {
     "duration": 0.038335,
     "end_time": "2025-01-03T18:22:20.130584",
     "exception": false,
     "start_time": "2025-01-03T18:22:20.092249",
     "status": "completed"
    },
    "tags": []
   },
   "outputs": [
    {
     "name": "stdout",
     "output_type": "stream",
     "text": [
      "Arama Sonuçları:\n",
      "                                         title       date  \\\n",
      "511                         Faiz ve sonrası... 2021-03-18   \n",
      "225               Türkiye’nin nükleer sırları! 2021-03-10   \n",
      "92      Nükleer enerji devlete de kazandıracak 2021-03-12   \n",
      "91                     2021 reform yılı olacak 2021-03-13   \n",
      "437      Solcu nükleer mühendisine göre Akkuyu 2021-03-14   \n",
      "1252       Köprüye, nükleere her şeye karşılar 2021-03-12   \n",
      "93    Ülkemizin yarınlarını garantiye alıyoruz 2021-03-11   \n",
      "549                             Dijital Reform 2021-03-13   \n",
      "402      Hedef: İstihdamı katlayacak reformlar 2021-03-05   \n",
      "400      ‘Devlet Kapasitesi’ ve yeni reformlar 2021-03-10   \n",
      "\n",
      "                         topic_label  similarity  \\\n",
      "511   Ekonomi ve Enerji Politikaları    0.998843   \n",
      "225   Ekonomi ve Enerji Politikaları    0.998382   \n",
      "92    Ekonomi ve Enerji Politikaları    0.998002   \n",
      "91    Ekonomi ve Enerji Politikaları    0.997921   \n",
      "437   Ekonomi ve Enerji Politikaları    0.997873   \n",
      "1252  Ekonomi ve Enerji Politikaları    0.997696   \n",
      "93    Ekonomi ve Enerji Politikaları    0.997551   \n",
      "549   Ekonomi ve Enerji Politikaları    0.997521   \n",
      "402   Ekonomi ve Enerji Politikaları    0.996515   \n",
      "400   Ekonomi ve Enerji Politikaları    0.996158   \n",
      "\n",
      "                                                   text  \n",
      "511   \\n\\nGerek \"ekonomide\" gerekse \"insan hakları\" ...  \n",
      "225   \\n\\nİngiliz The Sunday Times Gazetesi, bu köşe...  \n",
      "92    \\n\\nBakan Dönmez, nükleer santralin yapım aşam...  \n",
      "91    \\n\\nTürkiye ekonomisinde çıtayı yükseltecek re...  \n",
      "437   \\n\\nEskiden nükleer enerji santrali yapmaya ka...  \n",
      "1252  \\n\\nABD nükleer enerjide bir numara, tam 94 nü...  \n",
      "93    \\n\\nBAŞKAN ERDOĞAN: Milli enerji altyapımıza n...  \n",
      "549   \\n\\n\"Türkiye'nin istihsal mücadelesini, istikl...  \n",
      "402   \\n\\nHer ülke ekonomisi için temel makro ekonom...  \n",
      "400   \\n\\nBir ülkenin Milli Egemenliği, Tam Bağımsız...  \n"
     ]
    }
   ],
   "source": [
    "# Kullanıcıdan giriş alma\n",
    "start_date = \"2021-03-01\"  # Başlangıç tarihi (örnek)\n",
    "end_date = \"2021-03-31\"    # Bitiş tarihi (örnek)\n",
    "query = \"ekonomi ve yatırım haberleri\"  # Kullanıcı sorgusu (örnek)\n",
    "topic = \"Ekonomi ve Enerji Politikaları\"  # Kullanıcı konu seçimi (örnek)\n",
    "\n",
    "# Dinamik arama gerçekleştirme\n",
    "search_results = dynamic_search(data, start_date, end_date, query, topic)\n",
    "\n",
    "# Sonuçları gösterme\n",
    "print(\"Arama Sonuçları:\")\n",
    "print(search_results)\n"
   ]
  },
  {
   "cell_type": "code",
   "execution_count": 18,
   "id": "273e3a7c",
   "metadata": {
    "execution": {
     "iopub.execute_input": "2025-01-03T18:22:20.162700Z",
     "iopub.status.busy": "2025-01-03T18:22:20.162246Z",
     "iopub.status.idle": "2025-01-03T18:22:20.731741Z",
     "shell.execute_reply": "2025-01-03T18:22:20.730598Z"
    },
    "papermill": {
     "duration": 0.58817,
     "end_time": "2025-01-03T18:22:20.734208",
     "exception": false,
     "start_time": "2025-01-03T18:22:20.146038",
     "status": "completed"
    },
    "tags": []
   },
   "outputs": [
    {
     "name": "stdout",
     "output_type": "stream",
     "text": [
      "Arama Sonuçları:\n",
      "                                                  title       date  \\\n",
      "1562                   Avrupa'nın mültecilerle imtihanı 2015-07-25   \n",
      "2195  Doğu Ege Adaları’nın silahlandırılmasının huku... 2020-09-19   \n",
      "1542                 Libya’da askeri dengeler değişiyor 2020-04-18   \n",
      "695                 Dünya banyolarında Türk teknolojisi 2019-03-18   \n",
      "2174        Çin’de ortaya çıkan koronavirüs ve etkileri 2020-02-01   \n",
      "511                                  Faiz ve sonrası... 2021-03-18   \n",
      "447                      FETÖ’den PKK’ya S-200 füzeleri 2021-02-27   \n",
      "1711  Veriler ışığında COVID-19 salgınıyla mücadeled... 2020-04-18   \n",
      "463                        Para basmanın dayanılmazlığı 2014-10-12   \n",
      "410        Tantanacıların aklına uysak ihracat çökmüştü 2021-02-15   \n",
      "\n",
      "                                topic_label  similarity  \\\n",
      "1562      Dış Politika ve Askeri Gelişmeler    0.999618   \n",
      "2195      Dış Politika ve Askeri Gelişmeler    0.999406   \n",
      "1542      Dış Politika ve Askeri Gelişmeler    0.999384   \n",
      "695          Ekonomi ve Enerji Politikaları    0.999374   \n",
      "2174           Dijitalleşme ve Sosyal Medya    0.999354   \n",
      "511          Ekonomi ve Enerji Politikaları    0.999286   \n",
      "447   Genel Gündem ve Zaman Odaklı Haberler    0.999277   \n",
      "1711           Dijitalleşme ve Sosyal Medya    0.999255   \n",
      "463               Küresel Ekonomi ve Finans    0.999246   \n",
      "410               Küresel Ekonomi ve Finans    0.999191   \n",
      "\n",
      "                                                   text  \n",
      "1562  \\n\\nAlmanya Başbakanı Merkel'in geçen hafta ka...  \n",
      "2195  \\n\\nYakın zamanlarda Türkiye ve Yunanistan'ın ...  \n",
      "1542  \\n\\nLibya'da, Haftar üzerinden askeri bir dikt...  \n",
      "695   \\n\\nFrankfurt’ta düzenlenen ISH Fuarı’na Türk ...  \n",
      "2174  \\n\\n2019'un Aralık ayında ortaya çıktığı Çin'i...  \n",
      "511   \\n\\nGerek \"ekonomide\" gerekse \"insan hakları\" ...  \n",
      "447   \\n\\nFETÖ'yle mücadelede 17-25 Aralık yargı ope...  \n",
      "1711  \\n\\nGeçtiğimiz haftaya damga vuran çıkışlarınd...  \n",
      "463   \\n\\nKüresel piyasalar bu kez merkez bankası po...  \n",
      "410   \\n\\nTantanacı ekonomistler Kovid-19 hiç yaşanm...  \n"
     ]
    }
   ],
   "source": [
    "# Kullanıcıdan giriş alma\n",
    "query = \"mülteci haberleri\"\n",
    "\n",
    "# Dinamik arama gerçekleştirme\n",
    "search_results = dynamic_search(data, query=query)\n",
    "\n",
    "# Sonuçları gösterme\n",
    "print(\"Arama Sonuçları:\")\n",
    "print(search_results)"
   ]
  },
  {
   "cell_type": "markdown",
   "id": "d81f1525",
   "metadata": {
    "papermill": {
     "duration": 0.014397,
     "end_time": "2025-01-03T18:22:20.763855",
     "exception": false,
     "start_time": "2025-01-03T18:22:20.749458",
     "status": "completed"
    },
    "tags": []
   },
   "source": [
    "### 📰 **Haber İndeksine Göre Haber İçeriğini Yazdıran Kod**  \n",
    "\n",
    "- **Kodun Amacı:** Bu kod, her bir haberin indeksine göre haber içeriğini yazdırmayı sağlar.  \n",
    "- Kullanıcı, belirli bir haber indeksini girerek o haberin detaylarına ulaşabilir.  \n",
    "\n",
    "### 🔄 **Fonksiyonun Çalışma Prensibi:**  \n",
    "- **İndeks Bazlı Arama:** Belirtilen haber indeksine karşılık gelen haberin tüm içeriği ekranda görüntülenir.  \n",
    "- **Yazdırma İşlemi:** Kullanıcı tarafından verilen indeks numarası ile haber içeriği dinamik bir şekilde yazdırılır.  "
   ]
  },
  {
   "cell_type": "code",
   "execution_count": 19,
   "id": "085e7ed4",
   "metadata": {
    "execution": {
     "iopub.execute_input": "2025-01-03T18:22:20.795859Z",
     "iopub.status.busy": "2025-01-03T18:22:20.795416Z",
     "iopub.status.idle": "2025-01-03T18:22:20.802882Z",
     "shell.execute_reply": "2025-01-03T18:22:20.801695Z"
    },
    "papermill": {
     "duration": 0.02693,
     "end_time": "2025-01-03T18:22:20.805660",
     "exception": false,
     "start_time": "2025-01-03T18:22:20.778730",
     "status": "completed"
    },
    "tags": []
   },
   "outputs": [
    {
     "name": "stdout",
     "output_type": "stream",
     "text": [
      "Başlık: Avrupa'nın mültecilerle imtihanı\n",
      "Tarih: 2015-07-25 00:00:00\n",
      "Konu: Dış Politika ve Askeri Gelişmeler\n",
      "\n",
      "Haber İçeriği:\n",
      "\n",
      "\n",
      "Almanya Başbakanı Merkel'in geçen hafta katıldığı bir televizyon programında ailesiyle beraber dört yıldır Almanya'da oturma izni bekleyen ve eğer oturma izni alamazlarsa Lübnan'daki mülteci kampına geri gönderileceklerini söyleyen Filistinli Reem'e verdiği cevapla küçük kızı ağlatması bir anda dünya gündemine oturdu. Sayılardan ve istatistiklerden ibaret milyonlarca mülteciden sadece bir tanesinin aradan sıyrılarak insani hikâyesini ortaya koyması Merkel'e ve birçok Batılı siyasetçiye bir kez daha mülteciler sorununun insani ve ahlaki boyutunu hatırlatmış oldu.\n",
      "BM Mülteciler Yüksek Komiserliği'nin rakamlarına göre dünyamız kayıtların tutulmaya başlandığı İkinci Dünya Savaşı'ndan sonra en büyük mülteci krizi ile karşı karşıya. 2014 yılı itibariyle 60 milyon insan savaşlar nedeniyle mülteci durumunda. Bu rakamın 38 milyonunu kendi ülkesi içinde yer değiştirmek zorunda kalan mülteciler oluşturuyor. \n",
      "Sadece Suriye krizi nedeniyle 11 milyon insan mülteci konumuna düşmüş durumda. Bu rakamlar ile Suriye uzun yıllar birinciliği elinde tutan Afganistan'ı geçerek dünyada en fazla mülteci veren ülke durumuna geldi.\n",
      "Türkiye'nin 6 milyar dolardan fazla para harcayarak sayıları 3 milyona yaklaşan Suriyeli mülteciyi misafir ettiği bir dönemde AB ülkelerinin 40 bin mültecinin kabul edilmesi konusunu iki yıldır müzakere etmeleri insan hakları konusunda şampiyonluğu kimselere bırakmayan AB için büyük bir utanç kaynağı haline gelmiş durumda.\n",
      "BM Mülteciler Yüksek Komiserliği'ne göre Suriyeli mülteciler için acil olarak 4.5 milyar dolar kaynağa ihtiyaç duyulmakta iken bugüne kadar yapılan bağışlarla ancak 1 milyar dolar toplanmış durumdadır. \n",
      "AB bütün bu utanç yetmezmiş gibi bir yandan Avrupa Birliği Sınır Güvenliği Birimi (Frontex) ile denizde yakalanan mültecileri Avrupa Adalet Divan'ının aldığı kararları hiçe sayarak kuzey Libya gibi iç savaşın devam ettiği ülkelere geri göndermektedir. AB Frontex operasyonları ile adeta etrafına yeni bir Berlin duvarı inşa ederek AB'yi yüksek güvenlikli duvarlarla çevrili bir kaleye dönüştürmektedir.\n",
      "Diğer yandan AB ülkeleri içerisinde yükselen aşırı sağ partilerin etkisiyle beraber mültecilere yönelik saldırılar artmakta ve aşırı sağın yükselişini engellemek isteyen ana akım siyasi partiler mülteci karşıtı politikaları savunmaya başladılar.\n",
      "Sadece Almanya'da her hafta mülteci kamplarına yönelik en az üç saldırı yaşanmaktadır. Avusturya'da Viyana yakınlarındaki Traiskirchen kasabasında bulunan mülteci kampında utanç verici manzaralar yaşanmaktadır. Bu kampın kapasitesi 480 kişilik olmasına rağmen kampta 2000 mülteci zorunlu olarak tutulmaktadır.\n",
      "Mültecilerin birçoğu bahçede açık alanlarda uyumak zorunda kalmaktadırlar. Avusturya ve Almanya gibi ekonomik durumları çok iyi durumda olan ülkelerin mültecilere kayıtsız kalmasının AB'nin insan onurunu ve haklarını koruyan değerleri ile bir alakası bulunmamaktadır.\n",
      "Bütün bu durumu daha trajikomik hale getiren şey ise Avusturya devletinin bakmakta zorlandığı Traiskirchen kasabasındaki mültecilere bir Türk Camisi tarafından din, dil, ırk ayrımı yapmadan her gün ücretsiz yemek dağıtılması olmuştur. Türkiye'nin sadece devletiyle değil halkıyla da mazlumun ve ezilenin yanında olduğunu göstermesi bakımından bu örnek dikkate şayandır. \n",
      "AB ve Avrupa ülkeleri mülteci politikalarını acilen gözden geçirmelidir. Fakat her şeyden önce eğer savunduğunu iddia ettiği değerlere gerçekten inanıyorsa bu krizde insani ve ahlaki olarak büyük bir sorumluluğunun olduğunun farkına varmalıdır. \n",
      "\n",
      "* Türk Alman Üniversitesi, SETA Dış Politika Araştırmaları \n",
      "\n"
     ]
    }
   ],
   "source": [
    "# Belirli bir indekse göre haber detayını gösteren fonksiyon\n",
    "def get_news_details(data, index):\n",
    "    try:\n",
    "        # İndeks ile ilgili haberin detaylarını alıyoruz\n",
    "        news_row = data.loc[index]\n",
    "        print(f\"Başlık: {news_row['title']}\")\n",
    "        print(f\"Tarih: {news_row['date']}\")\n",
    "        print(f\"Konu: {news_row['topic_label']}\")\n",
    "        print(\"\\nHaber İçeriği:\")\n",
    "        print(news_row['text'])\n",
    "    except KeyError:\n",
    "        print(\"Geçersiz indeks numarası. Lütfen doğru bir indeks giriniz.\")\n",
    "\n",
    "# Kullanıcıdan indeks alarak haber detaylarını gösterme\n",
    "news_index = 1562  # Örnek olarak bir indeks numarası\n",
    "get_news_details(data, news_index)\n"
   ]
  }
 ],
 "metadata": {
  "kaggle": {
   "accelerator": "none",
   "dataSources": [
    {
     "datasetId": 3177243,
     "sourceId": 5508507,
     "sourceType": "datasetVersion"
    },
    {
     "datasetId": 6331053,
     "sourceId": 10238017,
     "sourceType": "datasetVersion"
    }
   ],
   "dockerImageVersionId": 30804,
   "isGpuEnabled": false,
   "isInternetEnabled": true,
   "language": "python",
   "sourceType": "notebook"
  },
  "kernelspec": {
   "display_name": "Python 3",
   "language": "python",
   "name": "python3"
  },
  "language_info": {
   "codemirror_mode": {
    "name": "ipython",
    "version": 3
   },
   "file_extension": ".py",
   "mimetype": "text/x-python",
   "name": "python",
   "nbconvert_exporter": "python",
   "pygments_lexer": "ipython3",
   "version": "3.10.14"
  },
  "papermill": {
   "default_parameters": {},
   "duration": 51.996933,
   "end_time": "2025-01-03T18:22:21.944303",
   "environment_variables": {},
   "exception": null,
   "input_path": "__notebook__.ipynb",
   "output_path": "__notebook__.ipynb",
   "parameters": {},
   "start_time": "2025-01-03T18:21:29.947370",
   "version": "2.6.0"
  }
 },
 "nbformat": 4,
 "nbformat_minor": 5
}
